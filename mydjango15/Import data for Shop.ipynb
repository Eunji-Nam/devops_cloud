{
 "cells": [
  {
   "cell_type": "code",
   "execution_count": 29,
   "id": "16793ce8",
   "metadata": {},
   "outputs": [],
   "source": [
    "import os\n",
    "os.environ[\"DJANGO_SETTINGS_MODULE\"] = \"mydjango15.settings\"\n",
    "os.environ[\"DJANGO_ALLOW_ASYNC_UNSAFE\"] = \"true\"\n",
    "\n",
    "import django\n",
    "django.setup()"
   ]
  },
  {
   "cell_type": "code",
   "execution_count": 30,
   "id": "ee14ca0d",
   "metadata": {},
   "outputs": [
    {
     "data": {
      "text/plain": [
       "[['name', 'description', 'address', 'coordinates', 'telephone'],\n",
       " ['샤브쌈주머니 대동점',\n",
       "  '깔끔하고 조용한 분위기의 샤브쌈주머니는 단체석, 놀이방 완비로 단체회식, 모임장소로 안성맞춤입니다. \\n신선한고 깨끗한 야채와 사이드 메뉴 무한리필로 가성비 최고이며 주말, 공휴일에도 평일 가격으로 제공하고 있습니다. ',\n",
       "  '대전 동구 동대전로46번길 11',\n",
       "  '36.3281369,127.4400424',\n",
       "  '042-622-1633'],\n",
       " ['파이브퍼센트 ',\n",
       "  '#노키즈존.\\n#어디에서도 채우지 못한 당신의 부족한 5%의 감성을 채워 줄 파이브퍼센트 (5%COFFEE).\\n#대전을 한눈에 담을수 있을 만큼 탁 트인 야경과 노을과 우리가 머무르는 곳.',\n",
       "  '대전 동구 동대전로110번길 177',\n",
       "  '36.3311867,127.4499776',\n",
       "  '042-123-1234'],\n",
       " ['카페 조각구름',\n",
       "  '커피와 함께 희망을 나누는 사람들.\\n카페조각구름은 도시소외지역 청소년들을 바리스타로 교육하고 청소년들이 우리마을의 좋은 어른으로 자라나도록 응원합니다.',\n",
       "  '대전 동구 계족로 194-21 ',\n",
       "  '36.3310612,127.4429135',\n",
       "  '070-7543-1854'],\n",
       " ['율랑이네 김밥',\n",
       "  '매일매일 김밥재료를 준비하고 신선한 재료를 사용하고 있습니다. 기름 또한 방앗간에 가서 직접 짜서 사용합니다.\\nTake out 전문점으로 주문 즉시 김밥을 만들고 있습니다.\\n항상 친절하게 판매를 진행하고 있습니다.',\n",
       "  '대전 동구 동대전로 99',\n",
       "  '36.3312624,127.443929',\n",
       "  '0507-1461-8703'],\n",
       " ['감성도야지',\n",
       "  '육즙좋은 삼겹살, 항정살, 목살 등 시원한 국수와 함께 환상궁합!',\n",
       "  '대전 동구 계족로 142',\n",
       "  '36.3268528,127.44476',\n",
       "  '0507-1448-8264'],\n",
       " ['주관적 무국적주방',\n",
       "  '사장놈이 직접 엄선해 업어온 80종 이상의 우리 술과 다양한 주류를, 색다른 음식과 함께 즐길 수 있는 아늑한 공간',\n",
       "  '대전 동구 동대전로 130 2층',\n",
       "  '36.333625,127.4457746',\n",
       "  '0507-1463-7018'],\n",
       " ['명월 본가 수라상',\n",
       "  '명월본가수라상의 모든 그릇은 유해물질이전혀 나오지않는 청자그릇만을 사용하고 있으며, 안락하고 편한한 모임이되도록 60년된 고택을 제공하고있고, 수십년간 숙련된요리사를 통한 요리를 하고 있습니다.',\n",
       "  '대전 동구 계족로 184-23 ',\n",
       "  '36.3311501,127.4430409',\n",
       "  '042-622-5533'],\n",
       " ['대동골순대',\n",
       "  '손으로 직접 만든 순대와 순대국밥.\\n철판순대볶음,돼지국밥,수육,전골등 순대와 수육 전문식당.',\n",
       "  '대전 동구 백룡로6번길 115',\n",
       "  '36.3314381,127.445085',\n",
       "  '042-257-7648'],\n",
       " ['모모케키',\n",
       "  '대전 주문케이크와 마카롱을 파는 작은 작업실 겸 디저트스튜디오입니다.',\n",
       "  '대전 동구 계족로 194-32',\n",
       "  '36.3308052,127.4432873',\n",
       "  '0507-1369-0030'],\n",
       " ['구름식당',\n",
       "  '카레 맛집',\n",
       "  '대전 동구 계족로 184-29',\n",
       "  '36.330929,127.4421915',\n",
       "  '0507-1314-1844']]"
      ]
     },
     "execution_count": 30,
     "metadata": {},
     "output_type": "execute_result"
    }
   ],
   "source": [
    "# pip install openpyxl\n",
    "from openpyxl import load_workbook\n",
    "wb = load_workbook('mydjango15-data.xlsx')\n",
    "sheet = wb.active\n",
    "rows = [\n",
    "    [column.value for column in row]\n",
    "    for row in sheet\n",
    "]\n",
    "rows"
   ]
  },
  {
   "cell_type": "code",
   "execution_count": 31,
   "id": "1c22d36b",
   "metadata": {},
   "outputs": [
    {
     "data": {
      "text/plain": [
       "['name', 'description', 'address', 'coordinates', 'telephone']"
      ]
     },
     "execution_count": 31,
     "metadata": {},
     "output_type": "execute_result"
    }
   ],
   "source": [
    "column_names = rows[0]\n",
    "column_names"
   ]
  },
  {
   "cell_type": "code",
   "execution_count": 32,
   "id": "fbf1be64",
   "metadata": {},
   "outputs": [
    {
     "data": {
      "text/plain": [
       "[{'name': '샤브쌈주머니 대동점',\n",
       "  'description': '깔끔하고 조용한 분위기의 샤브쌈주머니는 단체석, 놀이방 완비로 단체회식, 모임장소로 안성맞춤입니다. \\n신선한고 깨끗한 야채와 사이드 메뉴 무한리필로 가성비 최고이며 주말, 공휴일에도 평일 가격으로 제공하고 있습니다. ',\n",
       "  'address': '대전 동구 동대전로46번길 11',\n",
       "  'telephone': '042-622-1633',\n",
       "  'latitude': '36.3281369',\n",
       "  'longitude': '127.4400424'},\n",
       " {'name': '파이브퍼센트 ',\n",
       "  'description': '#노키즈존.\\n#어디에서도 채우지 못한 당신의 부족한 5%의 감성을 채워 줄 파이브퍼센트 (5%COFFEE).\\n#대전을 한눈에 담을수 있을 만큼 탁 트인 야경과 노을과 우리가 머무르는 곳.',\n",
       "  'address': '대전 동구 동대전로110번길 177',\n",
       "  'telephone': '042-123-1234',\n",
       "  'latitude': '36.3311867',\n",
       "  'longitude': '127.4499776'},\n",
       " {'name': '카페 조각구름',\n",
       "  'description': '커피와 함께 희망을 나누는 사람들.\\n카페조각구름은 도시소외지역 청소년들을 바리스타로 교육하고 청소년들이 우리마을의 좋은 어른으로 자라나도록 응원합니다.',\n",
       "  'address': '대전 동구 계족로 194-21 ',\n",
       "  'telephone': '070-7543-1854',\n",
       "  'latitude': '36.3310612',\n",
       "  'longitude': '127.4429135'},\n",
       " {'name': '율랑이네 김밥',\n",
       "  'description': '매일매일 김밥재료를 준비하고 신선한 재료를 사용하고 있습니다. 기름 또한 방앗간에 가서 직접 짜서 사용합니다.\\nTake out 전문점으로 주문 즉시 김밥을 만들고 있습니다.\\n항상 친절하게 판매를 진행하고 있습니다.',\n",
       "  'address': '대전 동구 동대전로 99',\n",
       "  'telephone': '0507-1461-8703',\n",
       "  'latitude': '36.3312624',\n",
       "  'longitude': '127.443929'},\n",
       " {'name': '감성도야지',\n",
       "  'description': '육즙좋은 삼겹살, 항정살, 목살 등 시원한 국수와 함께 환상궁합!',\n",
       "  'address': '대전 동구 계족로 142',\n",
       "  'telephone': '0507-1448-8264',\n",
       "  'latitude': '36.3268528',\n",
       "  'longitude': '127.44476'},\n",
       " {'name': '주관적 무국적주방',\n",
       "  'description': '사장놈이 직접 엄선해 업어온 80종 이상의 우리 술과 다양한 주류를, 색다른 음식과 함께 즐길 수 있는 아늑한 공간',\n",
       "  'address': '대전 동구 동대전로 130 2층',\n",
       "  'telephone': '0507-1463-7018',\n",
       "  'latitude': '36.333625',\n",
       "  'longitude': '127.4457746'},\n",
       " {'name': '명월 본가 수라상',\n",
       "  'description': '명월본가수라상의 모든 그릇은 유해물질이전혀 나오지않는 청자그릇만을 사용하고 있으며, 안락하고 편한한 모임이되도록 60년된 고택을 제공하고있고, 수십년간 숙련된요리사를 통한 요리를 하고 있습니다.',\n",
       "  'address': '대전 동구 계족로 184-23 ',\n",
       "  'telephone': '042-622-5533',\n",
       "  'latitude': '36.3311501',\n",
       "  'longitude': '127.4430409'},\n",
       " {'name': '대동골순대',\n",
       "  'description': '손으로 직접 만든 순대와 순대국밥.\\n철판순대볶음,돼지국밥,수육,전골등 순대와 수육 전문식당.',\n",
       "  'address': '대전 동구 백룡로6번길 115',\n",
       "  'telephone': '042-257-7648',\n",
       "  'latitude': '36.3314381',\n",
       "  'longitude': '127.445085'},\n",
       " {'name': '모모케키',\n",
       "  'description': '대전 주문케이크와 마카롱을 파는 작은 작업실 겸 디저트스튜디오입니다.',\n",
       "  'address': '대전 동구 계족로 194-32',\n",
       "  'telephone': '0507-1369-0030',\n",
       "  'latitude': '36.3308052',\n",
       "  'longitude': '127.4432873'},\n",
       " {'name': '구름식당',\n",
       "  'description': '카레 맛집',\n",
       "  'address': '대전 동구 계족로 184-29',\n",
       "  'telephone': '0507-1314-1844',\n",
       "  'latitude': '36.330929',\n",
       "  'longitude': '127.4421915'}]"
      ]
     },
     "execution_count": 32,
     "metadata": {},
     "output_type": "execute_result"
    }
   ],
   "source": [
    "row_list = []\n",
    "\n",
    "for row in rows[1:]:\n",
    "    if row[0] is None:\n",
    "        break\n",
    "    row_dict = dict(zip(column_names, row))\n",
    "    latitude, longitude = row_dict[\"coordinates\"].split(\",\")\n",
    "    row_dict[\"latitude\"] = latitude\n",
    "    row_dict[\"longitude\"] = longitude\n",
    "    del row_dict[\"coordinates\"]\n",
    "    row_list.append(row_dict)\n",
    "    \n",
    "row_list"
   ]
  },
  {
   "cell_type": "code",
   "execution_count": 33,
   "id": "35258617",
   "metadata": {},
   "outputs": [],
   "source": [
    "from delicious.models import Shop"
   ]
  },
  {
   "cell_type": "code",
   "execution_count": 34,
   "id": "2a8a9d91",
   "metadata": {},
   "outputs": [
    {
     "name": "stdout",
     "output_type": "stream",
     "text": [
      "Shop object (4)\n",
      "Shop object (5)\n",
      "Shop object (6)\n",
      "Shop object (7)\n",
      "Shop object (8)\n",
      "Shop object (9)\n",
      "Shop object (10)\n",
      "Shop object (11)\n",
      "Shop object (12)\n",
      "Shop object (13)\n"
     ]
    }
   ],
   "source": [
    "for row_dict in row_list:\n",
    "    shop = Shop(**row_dict)  # unpack\n",
    "    shop.save()\n",
    "    print(shop)"
   ]
  },
  {
   "cell_type": "code",
   "execution_count": null,
   "id": "2d3086f1",
   "metadata": {},
   "outputs": [],
   "source": []
  },
  {
   "cell_type": "code",
   "execution_count": null,
   "id": "dbd1b614",
   "metadata": {},
   "outputs": [],
   "source": []
  },
  {
   "cell_type": "code",
   "execution_count": null,
   "id": "ed518a1e",
   "metadata": {},
   "outputs": [],
   "source": []
  }
 ],
 "metadata": {
  "kernelspec": {
   "display_name": "Python 3 (ipykernel)",
   "language": "python",
   "name": "python3"
  },
  "language_info": {
   "codemirror_mode": {
    "name": "ipython",
    "version": 3
   },
   "file_extension": ".py",
   "mimetype": "text/x-python",
   "name": "python",
   "nbconvert_exporter": "python",
   "pygments_lexer": "ipython3",
   "version": "3.10.0"
  }
 },
 "nbformat": 4,
 "nbformat_minor": 5
}
