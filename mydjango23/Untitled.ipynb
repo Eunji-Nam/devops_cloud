{
 "cells": [
  {
   "cell_type": "code",
   "execution_count": 1,
   "id": "21ea7eb7",
   "metadata": {},
   "outputs": [],
   "source": [
    "import os\n",
    "\n",
    "os.environ[\"DJANGO_SETTINGS_MODULE\"] = \"mydjango23.settings\"\n",
    "os.environ[\"DJANGO_ALLOW_ASYNC_UNSAFE\"] = \"true\"\n",
    "\n",
    "import django\n",
    "django.setup()"
   ]
  },
  {
   "cell_type": "code",
   "execution_count": 2,
   "id": "f0e4ebd8",
   "metadata": {},
   "outputs": [],
   "source": [
    "from blog.models import Post"
   ]
  },
  {
   "cell_type": "code",
   "execution_count": 3,
   "id": "f9193e45",
   "metadata": {},
   "outputs": [
    {
     "data": {
      "text/plain": [
       "<dataset object>"
      ]
     },
     "execution_count": 3,
     "metadata": {},
     "output_type": "execute_result"
    }
   ],
   "source": [
    "import tablib\n",
    "\n",
    "dataset = tablib.Dataset()\n",
    "dataset.headers = [\"id\", \"title\", \"created_at\", \"updated_at\"]\n",
    "dataset"
   ]
  },
  {
   "cell_type": "code",
   "execution_count": 4,
   "id": "9880043d",
   "metadata": {},
   "outputs": [
    {
     "data": {
      "text/plain": [
       "[]"
      ]
     },
     "execution_count": 4,
     "metadata": {},
     "output_type": "execute_result"
    }
   ],
   "source": [
    "dict_list = []\n",
    "\n",
    "for post in Post.objects.all():\n",
    "    dataset.append([\n",
    "        post.id,\n",
    "        post.title,\n",
    "        # tzinfo가 있는 datetime 객체는 tablib에서 변환이 현재 지원되지 않아 \n",
    "        # 문자열로 변환하겠음\n",
    "        post.created_at.strftime(\"%Y-%m-%d %H:%M:%S\"),\n",
    "        post.updated_at.strftime(\"%Y-%m-%d %H:%M:%S\"),\n",
    "        ])\n",
    "    \n",
    "dict_list    "
   ]
  },
  {
   "cell_type": "code",
   "execution_count": 7,
   "id": "104ee2aa",
   "metadata": {},
   "outputs": [
    {
     "data": {
      "text/plain": [
       "'[{\"id\": 5, \"title\": \"titl\", \"created_at\": \"2021-12-16 02:04:51\", \"updated_at\": \"2021-12-16 02:04:51\"}, {\"id\": 4, \"title\": \"python\", \"created_at\": \"2021-12-15 05:58:44\", \"updated_at\": \"2021-12-15 05:58:44\"}, {\"id\": 3, \"title\": \"장고 4.0출시\", \"created_at\": \"2021-12-15 05:41:24\", \"updated_at\": \"2021-12-15 05:59:01\"}, {\"id\": 2, \"title\": \"장고쓰세요\", \"created_at\": \"2021-12-15 05:27:49\", \"updated_at\": \"2021-12-15 05:27:49\"}]'"
      ]
     },
     "execution_count": 7,
     "metadata": {},
     "output_type": "execute_result"
    }
   ],
   "source": [
    "dataset.export(\"json\")"
   ]
  },
  {
   "cell_type": "code",
   "execution_count": 6,
   "id": "a9ff3b76",
   "metadata": {},
   "outputs": [],
   "source": [
    "xlsx_data: bytes = dataset.export(\"xlsx\")    # 결과값 맨 처음의 b는 bytes 타입\n",
    "\n",
    "    # wb : write(새롭게 생성), binary (bytes  타입을 쓴다)\n",
    "with open(\"포스팅 내역.xlsx\", \"wb\") as f:\n",
    "    f.write(xlsx_data)"
   ]
  },
  {
   "cell_type": "code",
   "execution_count": null,
   "id": "861c4ee2",
   "metadata": {},
   "outputs": [],
   "source": []
  },
  {
   "cell_type": "code",
   "execution_count": null,
   "id": "6b599ab4",
   "metadata": {},
   "outputs": [],
   "source": []
  },
  {
   "cell_type": "code",
   "execution_count": null,
   "id": "6a4da98b",
   "metadata": {},
   "outputs": [],
   "source": []
  },
  {
   "cell_type": "code",
   "execution_count": null,
   "id": "89c750ca",
   "metadata": {},
   "outputs": [],
   "source": []
  },
  {
   "cell_type": "code",
   "execution_count": null,
   "id": "79043630",
   "metadata": {},
   "outputs": [],
   "source": []
  }
 ],
 "metadata": {
  "kernelspec": {
   "display_name": "Python 3 (ipykernel)",
   "language": "python",
   "name": "python3"
  },
  "language_info": {
   "codemirror_mode": {
    "name": "ipython",
    "version": 3
   },
   "file_extension": ".py",
   "mimetype": "text/x-python",
   "name": "python",
   "nbconvert_exporter": "python",
   "pygments_lexer": "ipython3",
   "version": "3.10.0"
  }
 },
 "nbformat": 4,
 "nbformat_minor": 5
}
